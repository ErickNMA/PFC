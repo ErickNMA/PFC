{
 "cells": [
  {
   "cell_type": "code",
   "execution_count": 1,
   "metadata": {},
   "outputs": [],
   "source": [
    "import numpy as np"
   ]
  },
  {
   "cell_type": "markdown",
   "metadata": {},
   "source": [
    "<h1 align='center'>Junta 1<h1>"
   ]
  },
  {
   "cell_type": "code",
   "execution_count": 2,
   "metadata": {},
   "outputs": [
    {
     "name": "stdout",
     "output_type": "stream",
     "text": [
      "P:\tKp = 2.5\n",
      "\n",
      "PI:\tKp = 2.25\tKi = 4.1118421052631575\n",
      "\n",
      "PID:\tKp = 3.0\tKi = 6.578947368421052\tKd = 0.95\n",
      "\n"
     ]
    }
   ],
   "source": [
    "#Ganho crítico:\n",
    "Kc = 5\n",
    "\n",
    "#Frequência de oscilação:\n",
    "Tc = 1.52\n",
    "\n",
    "#Controladores por Ziegler Nichols:\n",
    "print(f'P:\\tKp = {0.5*Kc}\\n')\n",
    "print(f'PI:\\tKp = {0.45*Kc}\\tKi = {Kc/(0.8*Tc)}\\n')\n",
    "print(f'PID:\\tKp = {0.6*Kc}\\tKi = {Kc/(0.5*Tc)}\\tKd = {Kc*0.125*Tc}\\n')"
   ]
  },
  {
   "cell_type": "markdown",
   "metadata": {},
   "source": [
    "<h1 align='center'>Junta 2<h1>"
   ]
  },
  {
   "cell_type": "code",
   "execution_count": 3,
   "metadata": {},
   "outputs": [
    {
     "name": "stdout",
     "output_type": "stream",
     "text": [
      "P:\tKp = 3.0\n",
      "\n",
      "PI:\tKp = 2.7\tKi = 8.241758241758241\n",
      "\n",
      "PID:\tKp = 3.5999999999999996\tKi = 13.186813186813186\tKd = 0.6825\n",
      "\n"
     ]
    }
   ],
   "source": [
    "#Ganho crítico:\n",
    "Kc = 6\n",
    "\n",
    "#Frequência de oscilação:\n",
    "Tc = 0.91\n",
    "\n",
    "#Controladores por Ziegler Nichols:\n",
    "print(f'P:\\tKp = {0.5*Kc}\\n')\n",
    "print(f'PI:\\tKp = {0.45*Kc}\\tKi = {Kc/(0.8*Tc)}\\n')\n",
    "print(f'PID:\\tKp = {0.6*Kc}\\tKi = {Kc/(0.5*Tc)}\\tKd = {Kc*0.125*Tc}\\n')"
   ]
  },
  {
   "cell_type": "markdown",
   "metadata": {},
   "source": [
    "<h1 align='center'>Junta 3<h1>"
   ]
  },
  {
   "cell_type": "code",
   "execution_count": 4,
   "metadata": {},
   "outputs": [
    {
     "name": "stdout",
     "output_type": "stream",
     "text": [
      "P:\tKp = 1.5\n",
      "\n",
      "PI:\tKp = 1.35\tKi = 3.378378378378378\n",
      "\n",
      "PID:\tKp = 1.7999999999999998\tKi = 5.405405405405405\tKd = 0.41625\n",
      "\n"
     ]
    }
   ],
   "source": [
    "#Ganho crítico:\n",
    "Kc = 3\n",
    "\n",
    "#Frequência de oscilação:\n",
    "Tc = 1.11\n",
    "\n",
    "#Controladores por Ziegler Nichols:\n",
    "print(f'P:\\tKp = {0.5*Kc}\\n')\n",
    "print(f'PI:\\tKp = {0.45*Kc}\\tKi = {Kc/(0.8*Tc)}\\n')\n",
    "print(f'PID:\\tKp = {0.6*Kc}\\tKi = {Kc/(0.5*Tc)}\\tKd = {Kc*0.125*Tc}\\n')"
   ]
  },
  {
   "cell_type": "markdown",
   "metadata": {},
   "source": [
    "<h1 align='center'>Garra<h1>"
   ]
  },
  {
   "cell_type": "code",
   "execution_count": 5,
   "metadata": {},
   "outputs": [
    {
     "name": "stdout",
     "output_type": "stream",
     "text": [
      "P:\tKp = 25.0\n",
      "\n",
      "PI:\tKp = 22.5\tKi = 45.62043795620438\n",
      "\n",
      "PID:\tKp = 30.0\tKi = 72.992700729927\tKd = 8.5625\n",
      "\n"
     ]
    }
   ],
   "source": [
    "#Ganho crítico:\n",
    "Kc = 50\n",
    "\n",
    "#Frequência de oscilação:\n",
    "Tc = 1.37\n",
    "\n",
    "#Controladores por Ziegler Nichols:\n",
    "print(f'P:\\tKp = {0.5*Kc}\\n')\n",
    "print(f'PI:\\tKp = {0.45*Kc}\\tKi = {Kc/(0.8*Tc)}\\n')\n",
    "print(f'PID:\\tKp = {0.6*Kc}\\tKi = {Kc/(0.5*Tc)}\\tKd = {Kc*0.125*Tc}\\n')"
   ]
  }
 ],
 "metadata": {
  "kernelspec": {
   "display_name": "Python 3",
   "language": "python",
   "name": "python3"
  },
  "language_info": {
   "codemirror_mode": {
    "name": "ipython",
    "version": 3
   },
   "file_extension": ".py",
   "mimetype": "text/x-python",
   "name": "python",
   "nbconvert_exporter": "python",
   "pygments_lexer": "ipython3",
   "version": "3.10.11"
  }
 },
 "nbformat": 4,
 "nbformat_minor": 2
}
