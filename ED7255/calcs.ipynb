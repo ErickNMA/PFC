{
 "cells": [
  {
   "cell_type": "code",
   "execution_count": 1,
   "metadata": {},
   "outputs": [],
   "source": [
    "import numpy as np\n",
    "import sympy as sp"
   ]
  },
  {
   "cell_type": "code",
   "execution_count": 2,
   "metadata": {},
   "outputs": [],
   "source": [
    "a = sp.Symbol('a')\n",
    "e = sp.Symbol('e')\n",
    "r = sp.Symbol('r')"
   ]
  },
  {
   "cell_type": "code",
   "execution_count": 3,
   "metadata": {},
   "outputs": [
    {
     "data": {
      "text/latex": [
       "$\\displaystyle \\left[\\begin{matrix}- \\sin{\\left(a \\right)} \\sin{\\left(r \\right)} + \\cos{\\left(a \\right)} \\cos{\\left(e \\right)} \\cos{\\left(r \\right)} & - \\sin{\\left(a \\right)} \\cos{\\left(r \\right)} - \\sin{\\left(r \\right)} \\cos{\\left(a \\right)} \\cos{\\left(e \\right)} & \\sin{\\left(e \\right)} \\cos{\\left(a \\right)}\\\\\\sin{\\left(a \\right)} \\cos{\\left(e \\right)} \\cos{\\left(r \\right)} + \\sin{\\left(r \\right)} \\cos{\\left(a \\right)} & - \\sin{\\left(a \\right)} \\sin{\\left(r \\right)} \\cos{\\left(e \\right)} + \\cos{\\left(a \\right)} \\cos{\\left(r \\right)} & \\sin{\\left(a \\right)} \\sin{\\left(e \\right)}\\\\- \\sin{\\left(e \\right)} \\cos{\\left(r \\right)} & \\sin{\\left(e \\right)} \\sin{\\left(r \\right)} & \\cos{\\left(e \\right)}\\end{matrix}\\right]$"
      ],
      "text/plain": [
       "Matrix([\n",
       "[-sin(a)*sin(r) + cos(a)*cos(e)*cos(r), -sin(a)*cos(r) - sin(r)*cos(a)*cos(e), sin(e)*cos(a)],\n",
       "[ sin(a)*cos(e)*cos(r) + sin(r)*cos(a), -sin(a)*sin(r)*cos(e) + cos(a)*cos(r), sin(a)*sin(e)],\n",
       "[                       -sin(e)*cos(r),                         sin(e)*sin(r),        cos(e)]])"
      ]
     },
     "execution_count": 3,
     "metadata": {},
     "output_type": "execute_result"
    }
   ],
   "source": [
    "#Rotação ZYZ - (a,e,r):\n",
    "R1 = sp.Matrix([\n",
    "    [sp.cos(a), -sp.sin(a), 0],\n",
    "    [sp.sin(a), sp.cos(a), 0],\n",
    "    [0, 0, 1]\n",
    "])\n",
    "R2 = sp.Matrix([\n",
    "    [sp.cos(e), 0, sp.sin(e)],\n",
    "    [0, 1, 0],\n",
    "    [-sp.sin(e), 0, sp.cos(e)]\n",
    "])\n",
    "R3 = sp.Matrix([\n",
    "    [sp.cos(r), -sp.sin(r), 0],\n",
    "    [sp.sin(r), sp.cos(r), 0],\n",
    "    [0, 0, 1]\n",
    "])\n",
    "\n",
    "R1@R2@R3"
   ]
  }
 ],
 "metadata": {
  "kernelspec": {
   "display_name": "Python 3",
   "language": "python",
   "name": "python3"
  },
  "language_info": {
   "codemirror_mode": {
    "name": "ipython",
    "version": 3
   },
   "file_extension": ".py",
   "mimetype": "text/x-python",
   "name": "python",
   "nbconvert_exporter": "python",
   "pygments_lexer": "ipython3",
   "version": "3.10.11"
  }
 },
 "nbformat": 4,
 "nbformat_minor": 2
}
