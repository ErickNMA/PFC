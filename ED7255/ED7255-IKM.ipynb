{
 "cells": [
  {
   "cell_type": "markdown",
   "metadata": {},
   "source": [
    "<h1 align=center> Cinemática Inversa <h1>"
   ]
  },
  {
   "cell_type": "code",
   "execution_count": 1,
   "metadata": {},
   "outputs": [],
   "source": [
    "import numpy as np\n",
    "import sympy as sp\n",
    "\n",
    "sp.init_printing()"
   ]
  },
  {
   "cell_type": "markdown",
   "metadata": {},
   "source": [
    "<h3 align=center> Definição da Pose desejada: <h3>"
   ]
  },
  {
   "cell_type": "code",
   "execution_count": 2,
   "metadata": {},
   "outputs": [],
   "source": [
    "x = 200\n",
    "y = 300\n",
    "z = 400\n",
    "e = 45\n",
    "r = 30"
   ]
  },
  {
   "cell_type": "markdown",
   "metadata": {},
   "source": [
    "<h3 align=center> Matriz de Transformação Homogênea Target: <h3>"
   ]
  },
  {
   "cell_type": "code",
   "execution_count": 3,
   "metadata": {},
   "outputs": [
    {
     "name": "stdout",
     "output_type": "stream",
     "text": [
      "200 300 400 56.309932474020215 45 30\n"
     ]
    },
    {
     "data": {
      "image/png": "[encoded data removed]",
      "text/latex": [
       "$\\displaystyle \\left[\\begin{matrix}-0.076 & -0.917 & 0.392 & 200\\\\0.787 & 0.186 & 0.588 & 300\\\\-0.612 & 0.354 & 0.707 & 400\\\\0 & 0 & 0 & 1\\end{matrix}\\right]$"
      ],
      "text/plain": [
       "⎡-0.076  -0.917  0.392  200⎤\n",
       "⎢                          ⎥\n",
       "⎢0.787   0.186   0.588  300⎥\n",
       "⎢                          ⎥\n",
       "⎢-0.612  0.354   0.707  400⎥\n",
       "⎢                          ⎥\n",
       "⎣  0       0       0     1 ⎦"
      ]
     },
     "execution_count": 3,
     "metadata": {},
     "output_type": "execute_result"
    }
   ],
   "source": [
    "#Ângulo estrurado da orientação (5 GDL's):\n",
    "a = np.degrees(np.arctan2(y, x))\n",
    "print(x, y, z, a, e, r)\n",
    "#Elementos da matriz de rotação:\n",
    "r11 = ((np.cos(np.radians(a))*np.cos(np.radians(e))*np.cos(np.radians(r)))-(np.sin(np.radians(a))*np.sin(np.radians(r))))\n",
    "r12 = (-(np.cos(np.radians(a))*np.cos(np.radians(e))*np.sin(np.radians(r)))-(np.sin(np.radians(a))*np.cos(np.radians(r))))\n",
    "r13 = (np.cos(np.radians(a))*np.sin(np.radians(e)))\n",
    "r21 = ((np.sin(np.radians(a))*np.cos(np.radians(e))*np.cos(np.radians(r)))+(np.cos(np.radians(a))*np.sin(np.radians(r))))\n",
    "r22 = (-(np.sin(np.radians(a))*np.cos(np.radians(e))*np.sin(np.radians(r)))+(np.cos(np.radians(a))*np.cos(np.radians(r))))\n",
    "r23 = (np.sin(np.radians(a))*np.sin(np.radians(e)))\n",
    "r31 = (-np.sin(np.radians(e))*np.cos(np.radians(r)))\n",
    "r32 = (np.sin(np.radians(e))*np.sin(np.radians(r)))\n",
    "r33 = np.cos(np.radians(e))\n",
    "\n",
    "#Função para arredondar os números:\n",
    "def arredNUM(matrix, n=3):\n",
    "    for a in sp.preorder_traversal(matrix):\n",
    "        if isinstance(a, sp.Float):\n",
    "            matrix = matrix.subs(a, round(a, n))\n",
    "    return matrix\n",
    "\n",
    "\n",
    "#COnstrução da matriz homogênea para o alvo:\n",
    "Ht = sp.Matrix([\n",
    "    [r11, r12, r13, x],\n",
    "    [r21, r22, r23, y],\n",
    "    [r31, r32, r33, z],\n",
    "    [0, 0, 0, 1]\n",
    "])\n",
    "\n",
    "arredNUM(Ht)"
   ]
  },
  {
   "cell_type": "markdown",
   "metadata": {},
   "source": [
    "<h3 align=center> Desacoplamento Cinemático: <h3>"
   ]
  },
  {
   "cell_type": "code",
   "execution_count": 4,
   "metadata": {},
   "outputs": [
    {
     "data": {
      "image/png": "[encoded data removed]",
      "text/latex": [
       "$\\displaystyle \\left( 145.479714431585, \\  218.219571647377, \\  301.71215741507\\right)$"
      ],
      "text/plain": [
       "(145.47971443158485, 218.21957164737725, 301.7121574150699)"
      ]
     },
     "execution_count": 4,
     "metadata": {},
     "output_type": "execute_result"
    }
   ],
   "source": [
    "xc = (x-(139*r13))\n",
    "yc = (y-(139*r23))\n",
    "zc = (z-(139*r33))\n",
    "\n",
    "xc, yc, zc"
   ]
  },
  {
   "cell_type": "markdown",
   "metadata": {},
   "source": [
    "<h3 align=center> Solução da Cinemática Inversa: <h3>"
   ]
  },
  {
   "cell_type": "code",
   "execution_count": 5,
   "metadata": {},
   "outputs": [
    {
     "name": "stdout",
     "output_type": "stream",
     "text": [
      "[  56.3099  -14.8602 -103.0318   72.892    30.    ]\n",
      "[  56.3099 -117.892   103.0318  -30.1398   30.    ]\n",
      "[-123.6901   14.8602  103.0318  -72.892  -150.    ]\n",
      "[-123.6901  117.892  -103.0318   30.1398 -150.    ]\n"
     ]
    }
   ],
   "source": [
    "#Vetor para armazenar as soluções:\n",
    "sol = np.empty((4, 5))\n",
    "\n",
    "#Theta 1:\n",
    "#Front:\n",
    "th = np.degrees(np.arctan2(yc, xc))\n",
    "sol[0][0] = th\n",
    "sol[1][0] = th\n",
    "#Back:\n",
    "if(th>0):\n",
    "    sol[2][0] = th-180\n",
    "    sol[3][0] = th-180\n",
    "else:\n",
    "    sol[2][0] = th+180\n",
    "    sol[3][0] = th+180\n",
    "\n",
    "#Theta 3:\n",
    "r = np.sqrt((xc**2)+(yc**2))\n",
    "h = np.sqrt((r**2)+((zc-187)**2))\n",
    "c3 = (((h**2)/(2*(230**2)))-1)\n",
    "s3 = np.sqrt(1-(c3**2))\n",
    "#Front Elbow Up:\n",
    "sol[0][2] = np.degrees(np.arctan2(-s3, c3))\n",
    "#Front Elbow Down:\n",
    "sol[1][2] = np.degrees(np.arctan2(s3, c3))\n",
    "#Back Elbow Up:\n",
    "sol[2][2] = np.degrees(np.arctan2(s3, c3))\n",
    "#Back Elbow Down:\n",
    "sol[3][2] = np.degrees(np.arctan2(-s3, c3))\n",
    "\n",
    "#Theta 2:\n",
    "beta = np.degrees(np.arctan2((zc-187), r))\n",
    "for i in range(len(sol)):\n",
    "    if(i<2):\n",
    "        alpha = np.degrees(np.arctan2((-230*np.sin(np.radians(sol[i][2]))), (230*(1+np.cos(np.radians(sol[i][2]))))))\n",
    "        sol[i][1] = (alpha+beta-90)\n",
    "    else:\n",
    "        alpha = np.degrees(np.arctan2((230*np.sin(np.radians(sol[i][2]))), (230*(1+np.cos(np.radians(sol[i][2]))))))\n",
    "        sol[i][1] = (90-alpha-beta)\n",
    "    \n",
    "\n",
    "#Theta 4:\n",
    "for i in range(len(sol)):\n",
    "    s4 = (-(r13*np.cos(np.radians(sol[i][0]))*np.cos(np.radians(sol[i][1]+sol[i][2])))-(r23*np.sin(np.radians(sol[i][0]))*np.cos(np.radians(sol[i][1]+sol[i][2])))-(r33*np.sin(np.radians(sol[i][1]+sol[i][2]))))\n",
    "    c4 = (-(r13*np.cos(np.radians(sol[i][0]))*np.sin(np.radians(sol[i][1]+sol[i][2])))-(r23*np.sin(np.radians(sol[i][0]))*np.sin(np.radians(sol[i][1]+sol[i][2])))+(r33*np.cos(np.radians(sol[i][1]+sol[i][2]))))\n",
    "    sol[i][3] = np.degrees(np.arctan2(s4, c4))\n",
    "\n",
    "#Theta 5:\n",
    "for i in range(len(sol)):\n",
    "    s5 = (-(r11*np.sin(np.radians(sol[i][0])))+(r21*np.cos(np.radians(sol[i][0]))))\n",
    "    c5 = (-(r12*np.sin(np.radians(sol[i][0])))+(r22*np.cos(np.radians(sol[i][0]))))\n",
    "    sol[i][4] = np.degrees(np.arctan2(s5, c5))\n",
    "\n",
    "for s in sol:\n",
    "    print(s.round(4))"
   ]
  }
 ],
 "metadata": {
  "kernelspec": {
   "display_name": "Python 3",
   "language": "python",
   "name": "python3"
  },
  "language_info": {
   "codemirror_mode": {
    "name": "ipython",
    "version": 3
   },
   "file_extension": ".py",
   "mimetype": "text/x-python",
   "name": "python",
   "nbconvert_exporter": "python",
   "pygments_lexer": "ipython3",
   "version": "3.10.11"
  }
 },
 "nbformat": 4,
 "nbformat_minor": 2
}
